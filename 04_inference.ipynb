{
 "cells": [
  {
   "cell_type": "markdown",
   "metadata": {},
   "source": [
    "# Inference\n"
   ]
  },
  {
   "cell_type": "code",
   "execution_count": 1,
   "metadata": {},
   "outputs": [],
   "source": [
    "# import libraries\n",
    "import numpy as np\n",
    "import pandas as pd\n",
    "import scipy.stats as stats\n",
    "import sklearn\n",
    "import matplotlib.pyplot as plt\n",
    "import seaborn as sns\n",
    "import plotly.express as px\n",
    "from tqdm.auto import tqdm\n",
    "import scripts.spotify_api as spotify_api\n",
    "\n",
    "# Apply the default theme\n",
    "sns.set_theme()\n"
   ]
  },
  {
   "cell_type": "code",
   "execution_count": 2,
   "metadata": {},
   "outputs": [],
   "source": [
    "# input track ID\n",
    "track_id = '0mflMxspEfB0VbI1kyLiAv'"
   ]
  },
  {
   "cell_type": "markdown",
   "metadata": {},
   "source": [
    "## Fetching track audio features\n"
   ]
  },
  {
   "cell_type": "code",
   "execution_count": 3,
   "metadata": {},
   "outputs": [
    {
     "data": {
      "text/html": [
       "<div>\n",
       "<style scoped>\n",
       "    .dataframe tbody tr th:only-of-type {\n",
       "        vertical-align: middle;\n",
       "    }\n",
       "\n",
       "    .dataframe tbody tr th {\n",
       "        vertical-align: top;\n",
       "    }\n",
       "\n",
       "    .dataframe thead th {\n",
       "        text-align: right;\n",
       "    }\n",
       "</style>\n",
       "<table border=\"1\" class=\"dataframe\">\n",
       "  <thead>\n",
       "    <tr style=\"text-align: right;\">\n",
       "      <th></th>\n",
       "      <th>id</th>\n",
       "      <th>name</th>\n",
       "      <th>album</th>\n",
       "      <th>artists</th>\n",
       "      <th>available_markets</th>\n",
       "      <th>disc_number</th>\n",
       "      <th>duration_ms</th>\n",
       "      <th>explicit</th>\n",
       "      <th>external_ids</th>\n",
       "      <th>external_urls</th>\n",
       "      <th>is_local</th>\n",
       "      <th>popularity</th>\n",
       "      <th>preview_url</th>\n",
       "      <th>track_number</th>\n",
       "      <th>type</th>\n",
       "      <th>uri</th>\n",
       "    </tr>\n",
       "  </thead>\n",
       "  <tbody>\n",
       "    <tr>\n",
       "      <th>0</th>\n",
       "      <td>0mflMxspEfB0VbI1kyLiAv</td>\n",
       "      <td>Stick Season</td>\n",
       "      <td>{'album_type': 'album', 'artists': [{'external...</td>\n",
       "      <td>[{'external_urls': {'spotify': 'https://open.s...</td>\n",
       "      <td>[AR, AU, AT, BE, BO, BR, BG, CA, CL, CO, CR, C...</td>\n",
       "      <td>1</td>\n",
       "      <td>182346</td>\n",
       "      <td>False</td>\n",
       "      <td>{'isrc': 'USUM72212470'}</td>\n",
       "      <td>{'spotify': 'https://open.spotify.com/track/0m...</td>\n",
       "      <td>False</td>\n",
       "      <td>90</td>\n",
       "      <td>None</td>\n",
       "      <td>2</td>\n",
       "      <td>track</td>\n",
       "      <td>spotify:track:0mflMxspEfB0VbI1kyLiAv</td>\n",
       "    </tr>\n",
       "  </tbody>\n",
       "</table>\n",
       "</div>"
      ],
      "text/plain": [
       "                       id          name  \\\n",
       "0  0mflMxspEfB0VbI1kyLiAv  Stick Season   \n",
       "\n",
       "                                               album  \\\n",
       "0  {'album_type': 'album', 'artists': [{'external...   \n",
       "\n",
       "                                             artists  \\\n",
       "0  [{'external_urls': {'spotify': 'https://open.s...   \n",
       "\n",
       "                                   available_markets  disc_number  \\\n",
       "0  [AR, AU, AT, BE, BO, BR, BG, CA, CL, CO, CR, C...            1   \n",
       "\n",
       "   duration_ms  explicit              external_ids  \\\n",
       "0       182346     False  {'isrc': 'USUM72212470'}   \n",
       "\n",
       "                                       external_urls  is_local  popularity  \\\n",
       "0  {'spotify': 'https://open.spotify.com/track/0m...     False          90   \n",
       "\n",
       "  preview_url  track_number   type                                   uri  \n",
       "0        None             2  track  spotify:track:0mflMxspEfB0VbI1kyLiAv  "
      ]
     },
     "execution_count": 3,
     "metadata": {},
     "output_type": "execute_result"
    }
   ],
   "source": [
    "# get tracks meta\n",
    "track_meta = spotify_api.get_tracks_metadata(track_id)\n",
    "track_meta"
   ]
  },
  {
   "cell_type": "code",
   "execution_count": 4,
   "metadata": {},
   "outputs": [
    {
     "data": {
      "text/html": [
       "<div>\n",
       "<style scoped>\n",
       "    .dataframe tbody tr th:only-of-type {\n",
       "        vertical-align: middle;\n",
       "    }\n",
       "\n",
       "    .dataframe tbody tr th {\n",
       "        vertical-align: top;\n",
       "    }\n",
       "\n",
       "    .dataframe thead th {\n",
       "        text-align: right;\n",
       "    }\n",
       "</style>\n",
       "<table border=\"1\" class=\"dataframe\">\n",
       "  <thead>\n",
       "    <tr style=\"text-align: right;\">\n",
       "      <th></th>\n",
       "      <th>index</th>\n",
       "      <th>danceability</th>\n",
       "      <th>energy</th>\n",
       "      <th>key</th>\n",
       "      <th>loudness</th>\n",
       "      <th>mode</th>\n",
       "      <th>speechiness</th>\n",
       "      <th>acousticness</th>\n",
       "      <th>instrumentalness</th>\n",
       "      <th>liveness</th>\n",
       "      <th>valence</th>\n",
       "      <th>tempo</th>\n",
       "      <th>id</th>\n",
       "      <th>time_signature</th>\n",
       "    </tr>\n",
       "  </thead>\n",
       "  <tbody>\n",
       "    <tr>\n",
       "      <th>0</th>\n",
       "      <td>0</td>\n",
       "      <td>0.664</td>\n",
       "      <td>0.5</td>\n",
       "      <td>9</td>\n",
       "      <td>-6.935</td>\n",
       "      <td>1</td>\n",
       "      <td>0.0651</td>\n",
       "      <td>0.799</td>\n",
       "      <td>0</td>\n",
       "      <td>0.0966</td>\n",
       "      <td>0.801</td>\n",
       "      <td>117.896</td>\n",
       "      <td>0mflMxspEfB0VbI1kyLiAv</td>\n",
       "      <td>4</td>\n",
       "    </tr>\n",
       "  </tbody>\n",
       "</table>\n",
       "</div>"
      ],
      "text/plain": [
       "   index  danceability  energy  key  loudness  mode  speechiness  \\\n",
       "0      0         0.664     0.5    9    -6.935     1       0.0651   \n",
       "\n",
       "   acousticness  instrumentalness  liveness  valence    tempo  \\\n",
       "0         0.799                 0    0.0966    0.801  117.896   \n",
       "\n",
       "                       id  time_signature  \n",
       "0  0mflMxspEfB0VbI1kyLiAv               4  "
      ]
     },
     "execution_count": 4,
     "metadata": {},
     "output_type": "execute_result"
    }
   ],
   "source": [
    "# hit spotify API\n",
    "af = spotify_api.get_audio_features(track_id)\n",
    "af"
   ]
  },
  {
   "cell_type": "code",
   "execution_count": 5,
   "metadata": {},
   "outputs": [
    {
     "data": {
      "text/html": [
       "<div>\n",
       "<style scoped>\n",
       "    .dataframe tbody tr th:only-of-type {\n",
       "        vertical-align: middle;\n",
       "    }\n",
       "\n",
       "    .dataframe tbody tr th {\n",
       "        vertical-align: top;\n",
       "    }\n",
       "\n",
       "    .dataframe thead th {\n",
       "        text-align: right;\n",
       "    }\n",
       "</style>\n",
       "<table border=\"1\" class=\"dataframe\">\n",
       "  <thead>\n",
       "    <tr style=\"text-align: right;\">\n",
       "      <th></th>\n",
       "      <th>id</th>\n",
       "      <th>name</th>\n",
       "      <th>album</th>\n",
       "      <th>artists</th>\n",
       "      <th>available_markets</th>\n",
       "      <th>disc_number</th>\n",
       "      <th>duration_ms</th>\n",
       "      <th>explicit</th>\n",
       "      <th>external_ids</th>\n",
       "      <th>external_urls</th>\n",
       "      <th>...</th>\n",
       "      <th>key</th>\n",
       "      <th>loudness</th>\n",
       "      <th>mode</th>\n",
       "      <th>speechiness</th>\n",
       "      <th>acousticness</th>\n",
       "      <th>instrumentalness</th>\n",
       "      <th>liveness</th>\n",
       "      <th>valence</th>\n",
       "      <th>tempo</th>\n",
       "      <th>time_signature</th>\n",
       "    </tr>\n",
       "  </thead>\n",
       "  <tbody>\n",
       "    <tr>\n",
       "      <th>0</th>\n",
       "      <td>0mflMxspEfB0VbI1kyLiAv</td>\n",
       "      <td>Stick Season</td>\n",
       "      <td>{'album_type': 'album', 'artists': [{'external...</td>\n",
       "      <td>[{'external_urls': {'spotify': 'https://open.s...</td>\n",
       "      <td>[AR, AU, AT, BE, BO, BR, BG, CA, CL, CO, CR, C...</td>\n",
       "      <td>1</td>\n",
       "      <td>182346</td>\n",
       "      <td>False</td>\n",
       "      <td>{'isrc': 'USUM72212470'}</td>\n",
       "      <td>{'spotify': 'https://open.spotify.com/track/0m...</td>\n",
       "      <td>...</td>\n",
       "      <td>9</td>\n",
       "      <td>-6.935</td>\n",
       "      <td>1</td>\n",
       "      <td>0.0651</td>\n",
       "      <td>0.799</td>\n",
       "      <td>0</td>\n",
       "      <td>0.0966</td>\n",
       "      <td>0.801</td>\n",
       "      <td>117.896</td>\n",
       "      <td>4</td>\n",
       "    </tr>\n",
       "  </tbody>\n",
       "</table>\n",
       "<p>1 rows × 29 columns</p>\n",
       "</div>"
      ],
      "text/plain": [
       "                       id          name  \\\n",
       "0  0mflMxspEfB0VbI1kyLiAv  Stick Season   \n",
       "\n",
       "                                               album  \\\n",
       "0  {'album_type': 'album', 'artists': [{'external...   \n",
       "\n",
       "                                             artists  \\\n",
       "0  [{'external_urls': {'spotify': 'https://open.s...   \n",
       "\n",
       "                                   available_markets  disc_number  \\\n",
       "0  [AR, AU, AT, BE, BO, BR, BG, CA, CL, CO, CR, C...            1   \n",
       "\n",
       "   duration_ms  explicit              external_ids  \\\n",
       "0       182346     False  {'isrc': 'USUM72212470'}   \n",
       "\n",
       "                                       external_urls  ...  key  loudness mode  \\\n",
       "0  {'spotify': 'https://open.spotify.com/track/0m...  ...    9    -6.935    1   \n",
       "\n",
       "   speechiness acousticness instrumentalness  liveness  valence    tempo  \\\n",
       "0       0.0651        0.799                0    0.0966    0.801  117.896   \n",
       "\n",
       "   time_signature  \n",
       "0               4  \n",
       "\n",
       "[1 rows x 29 columns]"
      ]
     },
     "execution_count": 5,
     "metadata": {},
     "output_type": "execute_result"
    }
   ],
   "source": [
    "# merge metadata and audio features\n",
    "df = pd.merge(track_meta, af, on='id')\n",
    "df"
   ]
  },
  {
   "cell_type": "markdown",
   "metadata": {},
   "source": [
    "## Data Preprocessing\n"
   ]
  },
  {
   "cell_type": "code",
   "execution_count": 7,
   "metadata": {},
   "outputs": [
    {
     "data": {
      "text/html": [
       "<div>\n",
       "<style scoped>\n",
       "    .dataframe tbody tr th:only-of-type {\n",
       "        vertical-align: middle;\n",
       "    }\n",
       "\n",
       "    .dataframe tbody tr th {\n",
       "        vertical-align: top;\n",
       "    }\n",
       "\n",
       "    .dataframe thead th {\n",
       "        text-align: right;\n",
       "    }\n",
       "</style>\n",
       "<table border=\"1\" class=\"dataframe\">\n",
       "  <thead>\n",
       "    <tr style=\"text-align: right;\">\n",
       "      <th></th>\n",
       "      <th>duration_ms</th>\n",
       "      <th>popularity</th>\n",
       "      <th>danceability</th>\n",
       "      <th>energy</th>\n",
       "      <th>key</th>\n",
       "      <th>loudness</th>\n",
       "      <th>mode</th>\n",
       "      <th>speechiness</th>\n",
       "      <th>acousticness</th>\n",
       "      <th>instrumentalness</th>\n",
       "      <th>liveness</th>\n",
       "      <th>valence</th>\n",
       "      <th>tempo</th>\n",
       "      <th>time_signature</th>\n",
       "    </tr>\n",
       "  </thead>\n",
       "  <tbody>\n",
       "    <tr>\n",
       "      <th>0</th>\n",
       "      <td>182346</td>\n",
       "      <td>90</td>\n",
       "      <td>0.664</td>\n",
       "      <td>0.5</td>\n",
       "      <td>9</td>\n",
       "      <td>-6.935</td>\n",
       "      <td>1</td>\n",
       "      <td>0.0651</td>\n",
       "      <td>0.799</td>\n",
       "      <td>0</td>\n",
       "      <td>0.0966</td>\n",
       "      <td>0.801</td>\n",
       "      <td>117.896</td>\n",
       "      <td>4</td>\n",
       "    </tr>\n",
       "  </tbody>\n",
       "</table>\n",
       "</div>"
      ],
      "text/plain": [
       "   duration_ms  popularity  danceability  energy  key  loudness  mode  \\\n",
       "0       182346          90         0.664     0.5    9    -6.935     1   \n",
       "\n",
       "   speechiness  acousticness  instrumentalness  liveness  valence    tempo  \\\n",
       "0       0.0651         0.799                 0    0.0966    0.801  117.896   \n",
       "\n",
       "   time_signature  \n",
       "0               4  "
      ]
     },
     "execution_count": 7,
     "metadata": {},
     "output_type": "execute_result"
    }
   ],
   "source": [
    "# Selecting the relevant audio features\n",
    "features = ['duration_ms', 'popularity', 'danceability', 'energy', 'key', 'loudness', 'mode', 'speechiness', 'acousticness', 'instrumentalness', 'liveness', 'valence', 'tempo', 'time_signature']\n",
    "df[features]"
   ]
  },
  {
   "cell_type": "code",
   "execution_count": 8,
   "metadata": {},
   "outputs": [],
   "source": [
    "# extracting independent variables\n",
    "X = df[features]"
   ]
  },
  {
   "cell_type": "code",
   "execution_count": 17,
   "metadata": {},
   "outputs": [
    {
     "data": {
      "text/plain": [
       "array(['Electro chill', 'Hot Country', 'Summer Jazz', 'Trap Mojito',\n",
       "       'hard Rock'], dtype=object)"
      ]
     },
     "execution_count": 17,
     "metadata": {},
     "output_type": "execute_result"
    }
   ],
   "source": [
    "# Load the label encoder, scaler, and other preprocessing objects\n",
    "import pickle\n",
    "with open('models/preprocessing.pkl', 'rb') as f:\n",
    "    preprocessing_objects = pickle.load(f)\n",
    "    label_encoder = preprocessing_objects['label_encoder']\n",
    "    scaler = preprocessing_objects['scaler']\n",
    "\n",
    "label_encoder.classes_"
   ]
  },
  {
   "cell_type": "code",
   "execution_count": 15,
   "metadata": {},
   "outputs": [
    {
     "data": {
      "text/html": [
       "<div>\n",
       "<style scoped>\n",
       "    .dataframe tbody tr th:only-of-type {\n",
       "        vertical-align: middle;\n",
       "    }\n",
       "\n",
       "    .dataframe tbody tr th {\n",
       "        vertical-align: top;\n",
       "    }\n",
       "\n",
       "    .dataframe thead th {\n",
       "        text-align: right;\n",
       "    }\n",
       "</style>\n",
       "<table border=\"1\" class=\"dataframe\">\n",
       "  <thead>\n",
       "    <tr style=\"text-align: right;\">\n",
       "      <th></th>\n",
       "      <th>duration_ms</th>\n",
       "      <th>popularity</th>\n",
       "      <th>danceability</th>\n",
       "      <th>energy</th>\n",
       "      <th>key</th>\n",
       "      <th>loudness</th>\n",
       "      <th>mode</th>\n",
       "      <th>speechiness</th>\n",
       "      <th>acousticness</th>\n",
       "      <th>instrumentalness</th>\n",
       "      <th>liveness</th>\n",
       "      <th>valence</th>\n",
       "      <th>tempo</th>\n",
       "      <th>time_signature</th>\n",
       "    </tr>\n",
       "  </thead>\n",
       "  <tbody>\n",
       "    <tr>\n",
       "      <th>0</th>\n",
       "      <td>-0.429147</td>\n",
       "      <td>3.166909</td>\n",
       "      <td>0.887319</td>\n",
       "      <td>-0.348244</td>\n",
       "      <td>1.126628</td>\n",
       "      <td>0.345512</td>\n",
       "      <td>0.791714</td>\n",
       "      <td>-0.200611</td>\n",
       "      <td>1.057363</td>\n",
       "      <td>-0.836228</td>\n",
       "      <td>-0.677816</td>\n",
       "      <td>2.528505</td>\n",
       "      <td>-0.088111</td>\n",
       "      <td>0.260076</td>\n",
       "    </tr>\n",
       "  </tbody>\n",
       "</table>\n",
       "</div>"
      ],
      "text/plain": [
       "   duration_ms  popularity  danceability    energy       key  loudness  \\\n",
       "0    -0.429147    3.166909      0.887319 -0.348244  1.126628  0.345512   \n",
       "\n",
       "       mode  speechiness  acousticness  instrumentalness  liveness   valence  \\\n",
       "0  0.791714    -0.200611      1.057363         -0.836228 -0.677816  2.528505   \n",
       "\n",
       "      tempo  time_signature  \n",
       "0 -0.088111        0.260076  "
      ]
     },
     "execution_count": 15,
     "metadata": {},
     "output_type": "execute_result"
    }
   ],
   "source": [
    "# scale the features\n",
    "X_scaled = pd.DataFrame(scaler.transform(X), columns=X.columns)\n",
    "X_scaled"
   ]
  },
  {
   "cell_type": "code",
   "execution_count": 16,
   "metadata": {},
   "outputs": [
    {
     "data": {
      "text/html": [
       "<div>\n",
       "<style scoped>\n",
       "    .dataframe tbody tr th:only-of-type {\n",
       "        vertical-align: middle;\n",
       "    }\n",
       "\n",
       "    .dataframe tbody tr th {\n",
       "        vertical-align: top;\n",
       "    }\n",
       "\n",
       "    .dataframe thead th {\n",
       "        text-align: right;\n",
       "    }\n",
       "</style>\n",
       "<table border=\"1\" class=\"dataframe\">\n",
       "  <thead>\n",
       "    <tr style=\"text-align: right;\">\n",
       "      <th></th>\n",
       "      <th>duration_ms</th>\n",
       "      <th>popularity</th>\n",
       "      <th>danceability</th>\n",
       "      <th>energy</th>\n",
       "      <th>speechiness</th>\n",
       "      <th>instrumentalness</th>\n",
       "      <th>liveness</th>\n",
       "      <th>valence</th>\n",
       "      <th>tempo</th>\n",
       "    </tr>\n",
       "  </thead>\n",
       "  <tbody>\n",
       "    <tr>\n",
       "      <th>0</th>\n",
       "      <td>-0.429147</td>\n",
       "      <td>3.166909</td>\n",
       "      <td>0.887319</td>\n",
       "      <td>-0.348244</td>\n",
       "      <td>-0.200611</td>\n",
       "      <td>-0.836228</td>\n",
       "      <td>-0.677816</td>\n",
       "      <td>2.528505</td>\n",
       "      <td>-0.088111</td>\n",
       "    </tr>\n",
       "  </tbody>\n",
       "</table>\n",
       "</div>"
      ],
      "text/plain": [
       "   duration_ms  popularity  danceability    energy  speechiness  \\\n",
       "0    -0.429147    3.166909      0.887319 -0.348244    -0.200611   \n",
       "\n",
       "   instrumentalness  liveness   valence     tempo  \n",
       "0         -0.836228 -0.677816  2.528505 -0.088111  "
      ]
     },
     "execution_count": 16,
     "metadata": {},
     "output_type": "execute_result"
    }
   ],
   "source": [
    "# dropping features from feature selection\n",
    "# dropping loudness and acousticness\n",
    "X_scaled.drop(columns=['loudness', 'acousticness', 'time_signature', 'key', 'mode'], inplace=True)\n",
    "X_scaled"
   ]
  },
  {
   "cell_type": "markdown",
   "metadata": {},
   "source": [
    "## inference\n"
   ]
  },
  {
   "cell_type": "code",
   "execution_count": 19,
   "metadata": {},
   "outputs": [
    {
     "data": {
      "text/plain": [
       "NeuralNet(\n",
       "  (layers): ModuleList(\n",
       "    (0): Linear(in_features=9, out_features=8, bias=True)\n",
       "    (1): Dropout(p=0.1, inplace=False)\n",
       "    (2): Linear(in_features=8, out_features=8, bias=True)\n",
       "    (3): Dropout(p=0.1, inplace=False)\n",
       "    (4): Linear(in_features=8, out_features=5, bias=True)\n",
       "  )\n",
       ")"
      ]
     },
     "execution_count": 19,
     "metadata": {},
     "output_type": "execute_result"
    }
   ],
   "source": [
    "# building model class\n",
    "import torch\n",
    "from models.neural_net import NeuralNet\n",
    "\n",
    "input_size = X_scaled.shape[1]\n",
    "output_size = len(label_encoder.classes_)\n",
    "hidden_sizes = [8, 8]\n",
    "\n",
    "model = NeuralNet(input_size, hidden_sizes, output_size)\n",
    "model"
   ]
  },
  {
   "cell_type": "code",
   "execution_count": 21,
   "metadata": {},
   "outputs": [
    {
     "data": {
      "text/plain": [
       "NeuralNet(\n",
       "  (layers): ModuleList(\n",
       "    (0): Linear(in_features=9, out_features=8, bias=True)\n",
       "    (1): Dropout(p=0.1, inplace=False)\n",
       "    (2): Linear(in_features=8, out_features=8, bias=True)\n",
       "    (3): Dropout(p=0.1, inplace=False)\n",
       "    (4): Linear(in_features=8, out_features=5, bias=True)\n",
       "  )\n",
       ")"
      ]
     },
     "execution_count": 21,
     "metadata": {},
     "output_type": "execute_result"
    }
   ],
   "source": [
    "# Load the trained weights \n",
    "model.load_state_dict(torch.load('models/neural_net_model.pth', weights_only=True))\n",
    "# Set the model to evaluation mode\n",
    "model.eval()"
   ]
  },
  {
   "cell_type": "code",
   "execution_count": 23,
   "metadata": {},
   "outputs": [
    {
     "data": {
      "text/plain": [
       "tensor([[-0.4291,  3.1669,  0.8873, -0.3482, -0.2006, -0.8362, -0.6778,  2.5285,\n",
       "         -0.0881]])"
      ]
     },
     "execution_count": 23,
     "metadata": {},
     "output_type": "execute_result"
    }
   ],
   "source": [
    "# converting the input to tensor\n",
    "X_tensor = torch.tensor(X_scaled.values, dtype=torch.float32)\n",
    "X_tensor"
   ]
  },
  {
   "cell_type": "code",
   "execution_count": 24,
   "metadata": {},
   "outputs": [
    {
     "name": "stdout",
     "output_type": "stream",
     "text": [
      "Probability distribution: [[7.9631738e-02 8.4489870e-01 4.7090743e-03 2.7584078e-04 7.0484646e-02]]\n",
      "Predicted genre: ['Hot Country']\n"
     ]
    }
   ],
   "source": [
    "# inference\n",
    "with torch.no_grad():\n",
    "    y_logit = model(X_tensor)\n",
    "    y_pred = torch.argmax(y_logit, dim=1)\n",
    "    y_pred = label_encoder.inverse_transform(y_pred.numpy())\n",
    "\n",
    "print('Predicted genre:', y_pred)"
   ]
  },
  {
   "cell_type": "code",
   "execution_count": 26,
   "metadata": {},
   "outputs": [
    {
     "data": {
      "text/plain": [
       "<Axes: >"
      ]
     },
     "execution_count": 26,
     "metadata": {},
     "output_type": "execute_result"
    },
    {
     "data": {
      "image/png": "[encoded data removed]",
      "text/plain": [
       "<Figure size 640x480 with 1 Axes>"
      ]
     },
     "metadata": {},
     "output_type": "display_data"
    }
   ],
   "source": [
    "# plotting probabilities\n",
    "probs = torch.nn.functional.softmax(y_logit, dim=1)\n",
    "probs = probs.numpy()\n",
    "\n",
    "# plot\n",
    "sns.barplot(x=label_encoder.classes_, y=probs[0])\n"
   ]
  }
 ],
 "metadata": {
  "kernelspec": {
   "display_name": "venv",
   "language": "python",
   "name": "python3"
  },
  "language_info": {
   "codemirror_mode": {
    "name": "ipython",
    "version": 3
   },
   "file_extension": ".py",
   "mimetype": "text/x-python",
   "name": "python",
   "nbconvert_exporter": "python",
   "pygments_lexer": "ipython3",
   "version": "3.12.5"
  }
 },
 "nbformat": 4,
 "nbformat_minor": 2
}
