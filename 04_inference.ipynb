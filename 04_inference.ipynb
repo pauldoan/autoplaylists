{
 "cells": [
  {
   "cell_type": "markdown",
   "metadata": {},
   "source": [
    "# Inference\n"
   ]
  },
  {
   "cell_type": "code",
   "execution_count": 33,
   "metadata": {},
   "outputs": [],
   "source": [
    "# import libraries\n",
    "import numpy as np\n",
    "import pandas as pd\n",
    "import scipy.stats as stats\n",
    "import sklearn\n",
    "import matplotlib.pyplot as plt\n",
    "import seaborn as sns\n",
    "import plotly.express as px\n",
    "from tqdm.auto import tqdm\n",
    "import scripts.spotify_api as spotify_api\n",
    "\n",
    "# Apply the default theme\n",
    "sns.set_theme()"
   ]
  },
  {
   "cell_type": "code",
   "execution_count": 76,
   "metadata": {},
   "outputs": [],
   "source": [
    "# input track ID\n",
    "track_id = [\"4tekXLedu6wxNhHkKjFkPE\", \"1AfcE4lyIX7oDCHCPaKPg6\"]"
   ]
  },
  {
   "cell_type": "markdown",
   "metadata": {},
   "source": [
    "## Fetching track audio features\n"
   ]
  },
  {
   "cell_type": "code",
   "execution_count": 77,
   "metadata": {},
   "outputs": [
    {
     "data": {
      "text/html": [
       "<div>\n",
       "<style scoped>\n",
       "    .dataframe tbody tr th:only-of-type {\n",
       "        vertical-align: middle;\n",
       "    }\n",
       "\n",
       "    .dataframe tbody tr th {\n",
       "        vertical-align: top;\n",
       "    }\n",
       "\n",
       "    .dataframe thead th {\n",
       "        text-align: right;\n",
       "    }\n",
       "</style>\n",
       "<table border=\"1\" class=\"dataframe\">\n",
       "  <thead>\n",
       "    <tr style=\"text-align: right;\">\n",
       "      <th></th>\n",
       "      <th>id</th>\n",
       "      <th>name</th>\n",
       "      <th>album</th>\n",
       "      <th>artists</th>\n",
       "      <th>available_markets</th>\n",
       "      <th>disc_number</th>\n",
       "      <th>duration_ms</th>\n",
       "      <th>explicit</th>\n",
       "      <th>external_ids</th>\n",
       "      <th>external_urls</th>\n",
       "      <th>is_local</th>\n",
       "      <th>popularity</th>\n",
       "      <th>preview_url</th>\n",
       "      <th>track_number</th>\n",
       "      <th>type</th>\n",
       "      <th>uri</th>\n",
       "    </tr>\n",
       "  </thead>\n",
       "  <tbody>\n",
       "    <tr>\n",
       "      <th>0</th>\n",
       "      <td>4tekXLedu6wxNhHkKjFkPE</td>\n",
       "      <td>Let's Vibe</td>\n",
       "      <td>{'album_type': 'single', 'artists': [{'externa...</td>\n",
       "      <td>[{'external_urls': {'spotify': 'https://open.s...</td>\n",
       "      <td>[AR, AU, AT, BE, BO, BR, BG, CA, CL, CO, CR, C...</td>\n",
       "      <td>1</td>\n",
       "      <td>193663</td>\n",
       "      <td>False</td>\n",
       "      <td>{'isrc': 'FXQ892400160'}</td>\n",
       "      <td>{'spotify': 'https://open.spotify.com/track/4t...</td>\n",
       "      <td>False</td>\n",
       "      <td>54</td>\n",
       "      <td>https://p.scdn.co/mp3-preview/4bc677efe55ee736...</td>\n",
       "      <td>1</td>\n",
       "      <td>track</td>\n",
       "      <td>spotify:track:4tekXLedu6wxNhHkKjFkPE</td>\n",
       "    </tr>\n",
       "    <tr>\n",
       "      <th>1</th>\n",
       "      <td>1AfcE4lyIX7oDCHCPaKPg6</td>\n",
       "      <td>Stumble</td>\n",
       "      <td>{'album_type': 'album', 'artists': [{'external...</td>\n",
       "      <td>[{'external_urls': {'spotify': 'https://open.s...</td>\n",
       "      <td>[AR, AU, AT, BE, BO, BR, BG, CA, CL, CO, CR, C...</td>\n",
       "      <td>1</td>\n",
       "      <td>121989</td>\n",
       "      <td>False</td>\n",
       "      <td>{'isrc': 'FXQ892300291'}</td>\n",
       "      <td>{'spotify': 'https://open.spotify.com/track/1A...</td>\n",
       "      <td>False</td>\n",
       "      <td>48</td>\n",
       "      <td>https://p.scdn.co/mp3-preview/a53d30699a0e6019...</td>\n",
       "      <td>1</td>\n",
       "      <td>track</td>\n",
       "      <td>spotify:track:1AfcE4lyIX7oDCHCPaKPg6</td>\n",
       "    </tr>\n",
       "  </tbody>\n",
       "</table>\n",
       "</div>"
      ],
      "text/plain": [
       "                       id        name  \\\n",
       "0  4tekXLedu6wxNhHkKjFkPE  Let's Vibe   \n",
       "1  1AfcE4lyIX7oDCHCPaKPg6     Stumble   \n",
       "\n",
       "                                               album  \\\n",
       "0  {'album_type': 'single', 'artists': [{'externa...   \n",
       "1  {'album_type': 'album', 'artists': [{'external...   \n",
       "\n",
       "                                             artists  \\\n",
       "0  [{'external_urls': {'spotify': 'https://open.s...   \n",
       "1  [{'external_urls': {'spotify': 'https://open.s...   \n",
       "\n",
       "                                   available_markets  disc_number  \\\n",
       "0  [AR, AU, AT, BE, BO, BR, BG, CA, CL, CO, CR, C...            1   \n",
       "1  [AR, AU, AT, BE, BO, BR, BG, CA, CL, CO, CR, C...            1   \n",
       "\n",
       "   duration_ms  explicit              external_ids  \\\n",
       "0       193663     False  {'isrc': 'FXQ892400160'}   \n",
       "1       121989     False  {'isrc': 'FXQ892300291'}   \n",
       "\n",
       "                                       external_urls  is_local  popularity  \\\n",
       "0  {'spotify': 'https://open.spotify.com/track/4t...     False          54   \n",
       "1  {'spotify': 'https://open.spotify.com/track/1A...     False          48   \n",
       "\n",
       "                                         preview_url  track_number   type  \\\n",
       "0  https://p.scdn.co/mp3-preview/4bc677efe55ee736...             1  track   \n",
       "1  https://p.scdn.co/mp3-preview/a53d30699a0e6019...             1  track   \n",
       "\n",
       "                                    uri  \n",
       "0  spotify:track:4tekXLedu6wxNhHkKjFkPE  \n",
       "1  spotify:track:1AfcE4lyIX7oDCHCPaKPg6  "
      ]
     },
     "execution_count": 77,
     "metadata": {},
     "output_type": "execute_result"
    }
   ],
   "source": [
    "# get tracks meta\n",
    "track_meta = spotify_api.get_tracks_metadata(track_id)\n",
    "track_meta"
   ]
  },
  {
   "cell_type": "code",
   "execution_count": 78,
   "metadata": {},
   "outputs": [
    {
     "data": {
      "text/html": [
       "<div>\n",
       "<style scoped>\n",
       "    .dataframe tbody tr th:only-of-type {\n",
       "        vertical-align: middle;\n",
       "    }\n",
       "\n",
       "    .dataframe tbody tr th {\n",
       "        vertical-align: top;\n",
       "    }\n",
       "\n",
       "    .dataframe thead th {\n",
       "        text-align: right;\n",
       "    }\n",
       "</style>\n",
       "<table border=\"1\" class=\"dataframe\">\n",
       "  <thead>\n",
       "    <tr style=\"text-align: right;\">\n",
       "      <th></th>\n",
       "      <th>index</th>\n",
       "      <th>danceability</th>\n",
       "      <th>energy</th>\n",
       "      <th>key</th>\n",
       "      <th>loudness</th>\n",
       "      <th>mode</th>\n",
       "      <th>speechiness</th>\n",
       "      <th>acousticness</th>\n",
       "      <th>instrumentalness</th>\n",
       "      <th>liveness</th>\n",
       "      <th>valence</th>\n",
       "      <th>tempo</th>\n",
       "      <th>id</th>\n",
       "      <th>time_signature</th>\n",
       "    </tr>\n",
       "  </thead>\n",
       "  <tbody>\n",
       "    <tr>\n",
       "      <th>0</th>\n",
       "      <td>0</td>\n",
       "      <td>0.843</td>\n",
       "      <td>0.700</td>\n",
       "      <td>4</td>\n",
       "      <td>-4.577</td>\n",
       "      <td>0</td>\n",
       "      <td>0.0783</td>\n",
       "      <td>0.246</td>\n",
       "      <td>0.000</td>\n",
       "      <td>0.2560</td>\n",
       "      <td>0.6380</td>\n",
       "      <td>110.009</td>\n",
       "      <td>4tekXLedu6wxNhHkKjFkPE</td>\n",
       "      <td>4</td>\n",
       "    </tr>\n",
       "    <tr>\n",
       "      <th>1</th>\n",
       "      <td>1</td>\n",
       "      <td>0.526</td>\n",
       "      <td>0.162</td>\n",
       "      <td>9</td>\n",
       "      <td>-14.679</td>\n",
       "      <td>0</td>\n",
       "      <td>0.0417</td>\n",
       "      <td>0.858</td>\n",
       "      <td>0.811</td>\n",
       "      <td>0.0861</td>\n",
       "      <td>0.0991</td>\n",
       "      <td>117.003</td>\n",
       "      <td>1AfcE4lyIX7oDCHCPaKPg6</td>\n",
       "      <td>4</td>\n",
       "    </tr>\n",
       "  </tbody>\n",
       "</table>\n",
       "</div>"
      ],
      "text/plain": [
       "   index  danceability  energy  key  loudness  mode  speechiness  \\\n",
       "0      0         0.843   0.700    4    -4.577     0       0.0783   \n",
       "1      1         0.526   0.162    9   -14.679     0       0.0417   \n",
       "\n",
       "   acousticness  instrumentalness  liveness  valence    tempo  \\\n",
       "0         0.246             0.000    0.2560   0.6380  110.009   \n",
       "1         0.858             0.811    0.0861   0.0991  117.003   \n",
       "\n",
       "                       id  time_signature  \n",
       "0  4tekXLedu6wxNhHkKjFkPE               4  \n",
       "1  1AfcE4lyIX7oDCHCPaKPg6               4  "
      ]
     },
     "execution_count": 78,
     "metadata": {},
     "output_type": "execute_result"
    }
   ],
   "source": [
    "# hit spotify API\n",
    "af = spotify_api.get_audio_features(track_id)\n",
    "af"
   ]
  },
  {
   "cell_type": "code",
   "execution_count": 79,
   "metadata": {},
   "outputs": [
    {
     "data": {
      "text/html": [
       "<div>\n",
       "<style scoped>\n",
       "    .dataframe tbody tr th:only-of-type {\n",
       "        vertical-align: middle;\n",
       "    }\n",
       "\n",
       "    .dataframe tbody tr th {\n",
       "        vertical-align: top;\n",
       "    }\n",
       "\n",
       "    .dataframe thead th {\n",
       "        text-align: right;\n",
       "    }\n",
       "</style>\n",
       "<table border=\"1\" class=\"dataframe\">\n",
       "  <thead>\n",
       "    <tr style=\"text-align: right;\">\n",
       "      <th></th>\n",
       "      <th>id</th>\n",
       "      <th>name</th>\n",
       "      <th>album</th>\n",
       "      <th>artists</th>\n",
       "      <th>available_markets</th>\n",
       "      <th>disc_number</th>\n",
       "      <th>duration_ms</th>\n",
       "      <th>explicit</th>\n",
       "      <th>external_ids</th>\n",
       "      <th>external_urls</th>\n",
       "      <th>...</th>\n",
       "      <th>key</th>\n",
       "      <th>loudness</th>\n",
       "      <th>mode</th>\n",
       "      <th>speechiness</th>\n",
       "      <th>acousticness</th>\n",
       "      <th>instrumentalness</th>\n",
       "      <th>liveness</th>\n",
       "      <th>valence</th>\n",
       "      <th>tempo</th>\n",
       "      <th>time_signature</th>\n",
       "    </tr>\n",
       "  </thead>\n",
       "  <tbody>\n",
       "    <tr>\n",
       "      <th>0</th>\n",
       "      <td>4tekXLedu6wxNhHkKjFkPE</td>\n",
       "      <td>Let's Vibe</td>\n",
       "      <td>{'album_type': 'single', 'artists': [{'externa...</td>\n",
       "      <td>[{'external_urls': {'spotify': 'https://open.s...</td>\n",
       "      <td>[AR, AU, AT, BE, BO, BR, BG, CA, CL, CO, CR, C...</td>\n",
       "      <td>1</td>\n",
       "      <td>193663</td>\n",
       "      <td>False</td>\n",
       "      <td>{'isrc': 'FXQ892400160'}</td>\n",
       "      <td>{'spotify': 'https://open.spotify.com/track/4t...</td>\n",
       "      <td>...</td>\n",
       "      <td>4</td>\n",
       "      <td>-4.577</td>\n",
       "      <td>0</td>\n",
       "      <td>0.0783</td>\n",
       "      <td>0.246</td>\n",
       "      <td>0.000</td>\n",
       "      <td>0.2560</td>\n",
       "      <td>0.6380</td>\n",
       "      <td>110.009</td>\n",
       "      <td>4</td>\n",
       "    </tr>\n",
       "    <tr>\n",
       "      <th>1</th>\n",
       "      <td>1AfcE4lyIX7oDCHCPaKPg6</td>\n",
       "      <td>Stumble</td>\n",
       "      <td>{'album_type': 'album', 'artists': [{'external...</td>\n",
       "      <td>[{'external_urls': {'spotify': 'https://open.s...</td>\n",
       "      <td>[AR, AU, AT, BE, BO, BR, BG, CA, CL, CO, CR, C...</td>\n",
       "      <td>1</td>\n",
       "      <td>121989</td>\n",
       "      <td>False</td>\n",
       "      <td>{'isrc': 'FXQ892300291'}</td>\n",
       "      <td>{'spotify': 'https://open.spotify.com/track/1A...</td>\n",
       "      <td>...</td>\n",
       "      <td>9</td>\n",
       "      <td>-14.679</td>\n",
       "      <td>0</td>\n",
       "      <td>0.0417</td>\n",
       "      <td>0.858</td>\n",
       "      <td>0.811</td>\n",
       "      <td>0.0861</td>\n",
       "      <td>0.0991</td>\n",
       "      <td>117.003</td>\n",
       "      <td>4</td>\n",
       "    </tr>\n",
       "  </tbody>\n",
       "</table>\n",
       "<p>2 rows × 29 columns</p>\n",
       "</div>"
      ],
      "text/plain": [
       "                       id        name  \\\n",
       "0  4tekXLedu6wxNhHkKjFkPE  Let's Vibe   \n",
       "1  1AfcE4lyIX7oDCHCPaKPg6     Stumble   \n",
       "\n",
       "                                               album  \\\n",
       "0  {'album_type': 'single', 'artists': [{'externa...   \n",
       "1  {'album_type': 'album', 'artists': [{'external...   \n",
       "\n",
       "                                             artists  \\\n",
       "0  [{'external_urls': {'spotify': 'https://open.s...   \n",
       "1  [{'external_urls': {'spotify': 'https://open.s...   \n",
       "\n",
       "                                   available_markets  disc_number  \\\n",
       "0  [AR, AU, AT, BE, BO, BR, BG, CA, CL, CO, CR, C...            1   \n",
       "1  [AR, AU, AT, BE, BO, BR, BG, CA, CL, CO, CR, C...            1   \n",
       "\n",
       "   duration_ms  explicit              external_ids  \\\n",
       "0       193663     False  {'isrc': 'FXQ892400160'}   \n",
       "1       121989     False  {'isrc': 'FXQ892300291'}   \n",
       "\n",
       "                                       external_urls  ...  key  loudness mode  \\\n",
       "0  {'spotify': 'https://open.spotify.com/track/4t...  ...    4    -4.577    0   \n",
       "1  {'spotify': 'https://open.spotify.com/track/1A...  ...    9   -14.679    0   \n",
       "\n",
       "   speechiness acousticness instrumentalness  liveness  valence    tempo  \\\n",
       "0       0.0783        0.246            0.000    0.2560   0.6380  110.009   \n",
       "1       0.0417        0.858            0.811    0.0861   0.0991  117.003   \n",
       "\n",
       "   time_signature  \n",
       "0               4  \n",
       "1               4  \n",
       "\n",
       "[2 rows x 29 columns]"
      ]
     },
     "execution_count": 79,
     "metadata": {},
     "output_type": "execute_result"
    }
   ],
   "source": [
    "# merge metadata and audio features\n",
    "df = pd.merge(track_meta, af, on=\"id\")\n",
    "df"
   ]
  },
  {
   "cell_type": "markdown",
   "metadata": {},
   "source": [
    "## Data Preprocessing\n"
   ]
  },
  {
   "cell_type": "code",
   "execution_count": 80,
   "metadata": {},
   "outputs": [
    {
     "data": {
      "text/html": [
       "<div>\n",
       "<style scoped>\n",
       "    .dataframe tbody tr th:only-of-type {\n",
       "        vertical-align: middle;\n",
       "    }\n",
       "\n",
       "    .dataframe tbody tr th {\n",
       "        vertical-align: top;\n",
       "    }\n",
       "\n",
       "    .dataframe thead th {\n",
       "        text-align: right;\n",
       "    }\n",
       "</style>\n",
       "<table border=\"1\" class=\"dataframe\">\n",
       "  <thead>\n",
       "    <tr style=\"text-align: right;\">\n",
       "      <th></th>\n",
       "      <th>duration_ms</th>\n",
       "      <th>popularity</th>\n",
       "      <th>danceability</th>\n",
       "      <th>energy</th>\n",
       "      <th>key</th>\n",
       "      <th>loudness</th>\n",
       "      <th>mode</th>\n",
       "      <th>speechiness</th>\n",
       "      <th>acousticness</th>\n",
       "      <th>instrumentalness</th>\n",
       "      <th>liveness</th>\n",
       "      <th>valence</th>\n",
       "      <th>tempo</th>\n",
       "      <th>time_signature</th>\n",
       "    </tr>\n",
       "  </thead>\n",
       "  <tbody>\n",
       "    <tr>\n",
       "      <th>0</th>\n",
       "      <td>193663</td>\n",
       "      <td>54</td>\n",
       "      <td>0.843</td>\n",
       "      <td>0.700</td>\n",
       "      <td>4</td>\n",
       "      <td>-4.577</td>\n",
       "      <td>0</td>\n",
       "      <td>0.0783</td>\n",
       "      <td>0.246</td>\n",
       "      <td>0.000</td>\n",
       "      <td>0.2560</td>\n",
       "      <td>0.6380</td>\n",
       "      <td>110.009</td>\n",
       "      <td>4</td>\n",
       "    </tr>\n",
       "    <tr>\n",
       "      <th>1</th>\n",
       "      <td>121989</td>\n",
       "      <td>48</td>\n",
       "      <td>0.526</td>\n",
       "      <td>0.162</td>\n",
       "      <td>9</td>\n",
       "      <td>-14.679</td>\n",
       "      <td>0</td>\n",
       "      <td>0.0417</td>\n",
       "      <td>0.858</td>\n",
       "      <td>0.811</td>\n",
       "      <td>0.0861</td>\n",
       "      <td>0.0991</td>\n",
       "      <td>117.003</td>\n",
       "      <td>4</td>\n",
       "    </tr>\n",
       "  </tbody>\n",
       "</table>\n",
       "</div>"
      ],
      "text/plain": [
       "   duration_ms  popularity  danceability  energy  key  loudness  mode  \\\n",
       "0       193663          54         0.843   0.700    4    -4.577     0   \n",
       "1       121989          48         0.526   0.162    9   -14.679     0   \n",
       "\n",
       "   speechiness  acousticness  instrumentalness  liveness  valence    tempo  \\\n",
       "0       0.0783         0.246             0.000    0.2560   0.6380  110.009   \n",
       "1       0.0417         0.858             0.811    0.0861   0.0991  117.003   \n",
       "\n",
       "   time_signature  \n",
       "0               4  \n",
       "1               4  "
      ]
     },
     "execution_count": 80,
     "metadata": {},
     "output_type": "execute_result"
    }
   ],
   "source": [
    "# Selecting the relevant audio features\n",
    "features = [\n",
    "    \"duration_ms\",\n",
    "    \"popularity\",\n",
    "    \"danceability\",\n",
    "    \"energy\",\n",
    "    \"key\",\n",
    "    \"loudness\",\n",
    "    \"mode\",\n",
    "    \"speechiness\",\n",
    "    \"acousticness\",\n",
    "    \"instrumentalness\",\n",
    "    \"liveness\",\n",
    "    \"valence\",\n",
    "    \"tempo\",\n",
    "    \"time_signature\",\n",
    "]\n",
    "df[features]"
   ]
  },
  {
   "cell_type": "code",
   "execution_count": 81,
   "metadata": {},
   "outputs": [],
   "source": [
    "# extracting independent variables\n",
    "X = df[features]"
   ]
  },
  {
   "cell_type": "code",
   "execution_count": 82,
   "metadata": {},
   "outputs": [
    {
     "data": {
      "text/plain": [
       "array(['Electro chill', 'Hot Country', 'Summer Jazz', 'Trap Mojito',\n",
       "       'hard Rock'], dtype=object)"
      ]
     },
     "execution_count": 82,
     "metadata": {},
     "output_type": "execute_result"
    }
   ],
   "source": [
    "# Load the label encoder, scaler, and other preprocessing objects\n",
    "import pickle\n",
    "\n",
    "with open(\"models/preprocessing.pkl\", \"rb\") as f:\n",
    "    preprocessing_objects = pickle.load(f)\n",
    "    label_encoder = preprocessing_objects[\"label_encoder\"]\n",
    "    scaler = preprocessing_objects[\"scaler\"]\n",
    "\n",
    "label_encoder.classes_"
   ]
  },
  {
   "cell_type": "code",
   "execution_count": 83,
   "metadata": {},
   "outputs": [
    {
     "data": {
      "text/html": [
       "<div>\n",
       "<style scoped>\n",
       "    .dataframe tbody tr th:only-of-type {\n",
       "        vertical-align: middle;\n",
       "    }\n",
       "\n",
       "    .dataframe tbody tr th {\n",
       "        vertical-align: top;\n",
       "    }\n",
       "\n",
       "    .dataframe thead th {\n",
       "        text-align: right;\n",
       "    }\n",
       "</style>\n",
       "<table border=\"1\" class=\"dataframe\">\n",
       "  <thead>\n",
       "    <tr style=\"text-align: right;\">\n",
       "      <th></th>\n",
       "      <th>duration_ms</th>\n",
       "      <th>popularity</th>\n",
       "      <th>danceability</th>\n",
       "      <th>energy</th>\n",
       "      <th>key</th>\n",
       "      <th>loudness</th>\n",
       "      <th>mode</th>\n",
       "      <th>speechiness</th>\n",
       "      <th>acousticness</th>\n",
       "      <th>instrumentalness</th>\n",
       "      <th>liveness</th>\n",
       "      <th>valence</th>\n",
       "      <th>tempo</th>\n",
       "      <th>time_signature</th>\n",
       "    </tr>\n",
       "  </thead>\n",
       "  <tbody>\n",
       "    <tr>\n",
       "      <th>0</th>\n",
       "      <td>-0.130304</td>\n",
       "      <td>0.497848</td>\n",
       "      <td>2.16255</td>\n",
       "      <td>0.259767</td>\n",
       "      <td>-0.334539</td>\n",
       "      <td>0.725892</td>\n",
       "      <td>-1.263082</td>\n",
       "      <td>-0.036754</td>\n",
       "      <td>-0.265899</td>\n",
       "      <td>-0.836228</td>\n",
       "      <td>0.353406</td>\n",
       "      <td>1.671225</td>\n",
       "      <td>-0.370482</td>\n",
       "      <td>0.260076</td>\n",
       "    </tr>\n",
       "    <tr>\n",
       "      <th>1</th>\n",
       "      <td>-2.022970</td>\n",
       "      <td>0.053005</td>\n",
       "      <td>-0.09582</td>\n",
       "      <td>-1.375783</td>\n",
       "      <td>1.126628</td>\n",
       "      <td>-0.903711</td>\n",
       "      <td>-1.263082</td>\n",
       "      <td>-0.491085</td>\n",
       "      <td>1.198542</td>\n",
       "      <td>1.237406</td>\n",
       "      <td>-0.745745</td>\n",
       "      <td>-1.163059</td>\n",
       "      <td>-0.120082</td>\n",
       "      <td>0.260076</td>\n",
       "    </tr>\n",
       "  </tbody>\n",
       "</table>\n",
       "</div>"
      ],
      "text/plain": [
       "   duration_ms  popularity  danceability    energy       key  loudness  \\\n",
       "0    -0.130304    0.497848       2.16255  0.259767 -0.334539  0.725892   \n",
       "1    -2.022970    0.053005      -0.09582 -1.375783  1.126628 -0.903711   \n",
       "\n",
       "       mode  speechiness  acousticness  instrumentalness  liveness   valence  \\\n",
       "0 -1.263082    -0.036754     -0.265899         -0.836228  0.353406  1.671225   \n",
       "1 -1.263082    -0.491085      1.198542          1.237406 -0.745745 -1.163059   \n",
       "\n",
       "      tempo  time_signature  \n",
       "0 -0.370482        0.260076  \n",
       "1 -0.120082        0.260076  "
      ]
     },
     "execution_count": 83,
     "metadata": {},
     "output_type": "execute_result"
    }
   ],
   "source": [
    "# scale the features\n",
    "X_scaled = pd.DataFrame(scaler.transform(X), columns=X.columns)\n",
    "X_scaled"
   ]
  },
  {
   "cell_type": "code",
   "execution_count": 84,
   "metadata": {},
   "outputs": [
    {
     "data": {
      "text/html": [
       "<div>\n",
       "<style scoped>\n",
       "    .dataframe tbody tr th:only-of-type {\n",
       "        vertical-align: middle;\n",
       "    }\n",
       "\n",
       "    .dataframe tbody tr th {\n",
       "        vertical-align: top;\n",
       "    }\n",
       "\n",
       "    .dataframe thead th {\n",
       "        text-align: right;\n",
       "    }\n",
       "</style>\n",
       "<table border=\"1\" class=\"dataframe\">\n",
       "  <thead>\n",
       "    <tr style=\"text-align: right;\">\n",
       "      <th></th>\n",
       "      <th>duration_ms</th>\n",
       "      <th>popularity</th>\n",
       "      <th>danceability</th>\n",
       "      <th>energy</th>\n",
       "      <th>speechiness</th>\n",
       "      <th>instrumentalness</th>\n",
       "      <th>liveness</th>\n",
       "      <th>valence</th>\n",
       "      <th>tempo</th>\n",
       "    </tr>\n",
       "  </thead>\n",
       "  <tbody>\n",
       "    <tr>\n",
       "      <th>0</th>\n",
       "      <td>-0.130304</td>\n",
       "      <td>0.497848</td>\n",
       "      <td>2.16255</td>\n",
       "      <td>0.259767</td>\n",
       "      <td>-0.036754</td>\n",
       "      <td>-0.836228</td>\n",
       "      <td>0.353406</td>\n",
       "      <td>1.671225</td>\n",
       "      <td>-0.370482</td>\n",
       "    </tr>\n",
       "    <tr>\n",
       "      <th>1</th>\n",
       "      <td>-2.022970</td>\n",
       "      <td>0.053005</td>\n",
       "      <td>-0.09582</td>\n",
       "      <td>-1.375783</td>\n",
       "      <td>-0.491085</td>\n",
       "      <td>1.237406</td>\n",
       "      <td>-0.745745</td>\n",
       "      <td>-1.163059</td>\n",
       "      <td>-0.120082</td>\n",
       "    </tr>\n",
       "  </tbody>\n",
       "</table>\n",
       "</div>"
      ],
      "text/plain": [
       "   duration_ms  popularity  danceability    energy  speechiness  \\\n",
       "0    -0.130304    0.497848       2.16255  0.259767    -0.036754   \n",
       "1    -2.022970    0.053005      -0.09582 -1.375783    -0.491085   \n",
       "\n",
       "   instrumentalness  liveness   valence     tempo  \n",
       "0         -0.836228  0.353406  1.671225 -0.370482  \n",
       "1          1.237406 -0.745745 -1.163059 -0.120082  "
      ]
     },
     "execution_count": 84,
     "metadata": {},
     "output_type": "execute_result"
    }
   ],
   "source": [
    "# dropping features from feature selection\n",
    "# dropping loudness and acousticness\n",
    "X_scaled.drop(columns=[\"loudness\", \"acousticness\", \"time_signature\", \"key\", \"mode\"], inplace=True)\n",
    "X_scaled"
   ]
  },
  {
   "cell_type": "markdown",
   "metadata": {},
   "source": [
    "## inference\n"
   ]
  },
  {
   "cell_type": "code",
   "execution_count": 85,
   "metadata": {},
   "outputs": [
    {
     "data": {
      "text/plain": [
       "NeuralNet(\n",
       "  (layers): ModuleList(\n",
       "    (0): Linear(in_features=9, out_features=8, bias=True)\n",
       "    (1): Dropout(p=0.1, inplace=False)\n",
       "    (2): Linear(in_features=8, out_features=8, bias=True)\n",
       "    (3): Dropout(p=0.1, inplace=False)\n",
       "    (4): Linear(in_features=8, out_features=5, bias=True)\n",
       "  )\n",
       ")"
      ]
     },
     "execution_count": 85,
     "metadata": {},
     "output_type": "execute_result"
    }
   ],
   "source": [
    "# building model class\n",
    "import torch\n",
    "from models.neural_net import NeuralNet\n",
    "\n",
    "input_size = X_scaled.shape[1]\n",
    "output_size = len(label_encoder.classes_)\n",
    "hidden_sizes = [8, 8]\n",
    "\n",
    "model = NeuralNet(input_size, hidden_sizes, output_size)\n",
    "model"
   ]
  },
  {
   "cell_type": "code",
   "execution_count": 86,
   "metadata": {},
   "outputs": [
    {
     "data": {
      "text/plain": [
       "NeuralNet(\n",
       "  (layers): ModuleList(\n",
       "    (0): Linear(in_features=9, out_features=8, bias=True)\n",
       "    (1): Dropout(p=0.1, inplace=False)\n",
       "    (2): Linear(in_features=8, out_features=8, bias=True)\n",
       "    (3): Dropout(p=0.1, inplace=False)\n",
       "    (4): Linear(in_features=8, out_features=5, bias=True)\n",
       "  )\n",
       ")"
      ]
     },
     "execution_count": 86,
     "metadata": {},
     "output_type": "execute_result"
    }
   ],
   "source": [
    "# Load the trained weights\n",
    "model.load_state_dict(torch.load(\"models/neural_net_model.pth\", weights_only=True))\n",
    "# Set the model to evaluation mode\n",
    "model.eval()"
   ]
  },
  {
   "cell_type": "code",
   "execution_count": 87,
   "metadata": {},
   "outputs": [
    {
     "data": {
      "text/plain": [
       "tensor([[-0.1303,  0.4978,  2.1625,  0.2598, -0.0368, -0.8362,  0.3534,  1.6712,\n",
       "         -0.3705],\n",
       "        [-2.0230,  0.0530, -0.0958, -1.3758, -0.4911,  1.2374, -0.7457, -1.1631,\n",
       "         -0.1201]])"
      ]
     },
     "execution_count": 87,
     "metadata": {},
     "output_type": "execute_result"
    }
   ],
   "source": [
    "# converting the input to tensor\n",
    "X_tensor = torch.tensor(X_scaled.values, dtype=torch.float32)\n",
    "X_tensor"
   ]
  },
  {
   "cell_type": "code",
   "execution_count": 89,
   "metadata": {},
   "outputs": [],
   "source": [
    "# inference\n",
    "with torch.no_grad():\n",
    "    y_logit = model(X_tensor)\n",
    "    y_prob = torch.softmax(y_logit, dim=1)\n",
    "    y_pred = torch.argmax(y_logit, dim=1)\n",
    "    y_pred = label_encoder.inverse_transform(y_pred.numpy())"
   ]
  },
  {
   "cell_type": "code",
   "execution_count": 123,
   "metadata": {},
   "outputs": [
    {
     "data": {
      "text/plain": [
       "[{'Electro chill': 0.6459103226661682,\n",
       "  'Hot Country': 0.02881079725921154,\n",
       "  'Summer Jazz': 0.014618881978094578,\n",
       "  'Trap Mojito': 0.2902225852012634,\n",
       "  'hard Rock': 0.020437421277165413},\n",
       " {'Electro chill': 0.00529273459687829,\n",
       "  'Hot Country': 0.005375155247747898,\n",
       "  'Summer Jazz': 0.9887650012969971,\n",
       "  'Trap Mojito': 4.624424400390126e-05,\n",
       "  'hard Rock': 0.000520852452609688}]"
      ]
     },
     "execution_count": 123,
     "metadata": {},
     "output_type": "execute_result"
    }
   ],
   "source": [
    "# creating dict of genre and predicted probability for each entry in the list\n",
    "genre_probs = []\n",
    "for i in range(len(y_prob)):\n",
    "    genre_prob = dict(zip(label_encoder.classes_, y_prob[i].numpy().tolist()))\n",
    "    genre_probs.append(genre_prob)\n",
    "genre_probs"
   ]
  },
  {
   "cell_type": "code",
   "execution_count": 124,
   "metadata": {},
   "outputs": [],
   "source": [
    "# saving data in orginial dataframe\n",
    "df[\"predicted_label\"] = y_pred\n",
    "df[\"predicted_probabilty\"] = y_prob.max(dim=1).values.numpy()\n",
    "df[\"all_probabilities\"] = genre_probs"
   ]
  },
  {
   "cell_type": "code",
   "execution_count": 125,
   "metadata": {},
   "outputs": [
    {
     "data": {
      "text/html": [
       "<div>\n",
       "<style scoped>\n",
       "    .dataframe tbody tr th:only-of-type {\n",
       "        vertical-align: middle;\n",
       "    }\n",
       "\n",
       "    .dataframe tbody tr th {\n",
       "        vertical-align: top;\n",
       "    }\n",
       "\n",
       "    .dataframe thead th {\n",
       "        text-align: right;\n",
       "    }\n",
       "</style>\n",
       "<table border=\"1\" class=\"dataframe\">\n",
       "  <thead>\n",
       "    <tr style=\"text-align: right;\">\n",
       "      <th></th>\n",
       "      <th>name</th>\n",
       "      <th>predicted_label</th>\n",
       "      <th>predicted_probabilty</th>\n",
       "    </tr>\n",
       "  </thead>\n",
       "  <tbody>\n",
       "    <tr>\n",
       "      <th>0</th>\n",
       "      <td>Let's Vibe</td>\n",
       "      <td>Electro chill</td>\n",
       "      <td>0.645910</td>\n",
       "    </tr>\n",
       "    <tr>\n",
       "      <th>1</th>\n",
       "      <td>Stumble</td>\n",
       "      <td>Summer Jazz</td>\n",
       "      <td>0.988765</td>\n",
       "    </tr>\n",
       "  </tbody>\n",
       "</table>\n",
       "</div>"
      ],
      "text/plain": [
       "         name predicted_label  predicted_probabilty\n",
       "0  Let's Vibe   Electro chill              0.645910\n",
       "1     Stumble     Summer Jazz              0.988765"
      ]
     },
     "execution_count": 125,
     "metadata": {},
     "output_type": "execute_result"
    }
   ],
   "source": [
    "# output the results\n",
    "df[[\"name\", \"predicted_label\", \"predicted_probabilty\"]]"
   ]
  },
  {
   "cell_type": "code",
   "execution_count": 127,
   "metadata": {},
   "outputs": [
    {
     "data": {
      "image/png": "[encoded data removed]",
      "text/plain": [
       "<Figure size 640x480 with 1 Axes>"
      ]
     },
     "metadata": {},
     "output_type": "display_data"
    },
    {
     "data": {
      "image/png": "[encoded data removed]",
      "text/plain": [
       "<Figure size 640x480 with 1 Axes>"
      ]
     },
     "metadata": {},
     "output_type": "display_data"
    }
   ],
   "source": [
    "# looping through tracks and plotting probabilities\n",
    "for i in range(len(df)):\n",
    "    track = df.iloc[i]\n",
    "    sns.barplot(\n",
    "        x=label_encoder.classes_, y=track[\"all_probabilities\"].values(), hue=label_encoder.classes_, dodge=False\n",
    "    )\n",
    "    plt.title(f\"{track['name']} - Predicted Genre: {track['predicted_label']}\")\n",
    "    plt.ylabel(\"Probability\")\n",
    "    plt.xlabel(\"Genre\")\n",
    "    plt.xticks(rotation=45)\n",
    "    plt.show()"
   ]
  },
  {
   "cell_type": "code",
   "execution_count": null,
   "metadata": {},
   "outputs": [],
   "source": []
  }
 ],
 "metadata": {
  "kernelspec": {
   "display_name": "venv",
   "language": "python",
   "name": "python3"
  },
  "language_info": {
   "codemirror_mode": {
    "name": "ipython",
    "version": 3
   },
   "file_extension": ".py",
   "mimetype": "text/x-python",
   "name": "python",
   "nbconvert_exporter": "python",
   "pygments_lexer": "ipython3",
   "version": "3.12.5"
  }
 },
 "nbformat": 4,
 "nbformat_minor": 2
}
