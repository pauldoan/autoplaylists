{
 "cells": [
  {
   "cell_type": "markdown",
   "metadata": {},
   "source": [
    "# 00 - Spotify API\n"
   ]
  },
  {
   "cell_type": "code",
   "execution_count": 3,
   "metadata": {},
   "outputs": [],
   "source": [
    "# import libraries\n",
    "from dotenv import load_dotenv\n",
    "import os\n",
    "import pandas as pd\n",
    "import requests\n",
    "import time\n",
    "from tqdm.auto import tqdm\n",
    "\n",
    "# Load environment variables from .env file\n",
    "load_dotenv()\n",
    "\n",
    "# Access the API key\n",
    "client_id = os.getenv('CLIENT_ID')\n",
    "client_secret = os.getenv('CLIENT_SECRET')"
   ]
  },
  {
   "cell_type": "code",
   "execution_count": 4,
   "metadata": {},
   "outputs": [],
   "source": [
    "# request access token\n",
    "url = \"https://accounts.spotify.com/api/token\"\n",
    "payload = {\n",
    "    \"grant_type\": \"client_credentials\",\n",
    "    \"client_id\": client_id,\n",
    "    \"client_secret\": client_secret\n",
    "}\n",
    "headers = {\n",
    "    \"Content-Type\": \"application/x-www-form-urlencoded\"\n",
    "}\n",
    "response = requests.post(url, data=payload, headers=headers)\n",
    "response.raise_for_status()  # Raise an exception for HTTP errors\n",
    "access_token = response.json()[\"access_token\"]\n"
   ]
  },
  {
   "cell_type": "code",
   "execution_count": 5,
   "metadata": {},
   "outputs": [
    {
     "data": {
      "text/html": [
       "<div>\n",
       "<style scoped>\n",
       "    .dataframe tbody tr th:only-of-type {\n",
       "        vertical-align: middle;\n",
       "    }\n",
       "\n",
       "    .dataframe tbody tr th {\n",
       "        vertical-align: top;\n",
       "    }\n",
       "\n",
       "    .dataframe thead th {\n",
       "        text-align: right;\n",
       "    }\n",
       "</style>\n",
       "<table border=\"1\" class=\"dataframe\">\n",
       "  <thead>\n",
       "    <tr style=\"text-align: right;\">\n",
       "      <th></th>\n",
       "      <th>playlist_name</th>\n",
       "      <th>playlist_id</th>\n",
       "    </tr>\n",
       "  </thead>\n",
       "  <tbody>\n",
       "    <tr>\n",
       "      <th>0</th>\n",
       "      <td>Electro chill</td>\n",
       "      <td>37i9dQZF1DX9ND1QF5hZNF</td>\n",
       "    </tr>\n",
       "    <tr>\n",
       "      <th>1</th>\n",
       "      <td>hard Rock</td>\n",
       "      <td>37i9dQZF1DX1X7WV84927n</td>\n",
       "    </tr>\n",
       "    <tr>\n",
       "      <th>2</th>\n",
       "      <td>Trap Mojito</td>\n",
       "      <td>37i9dQZF1DX1OIMC8iDi74</td>\n",
       "    </tr>\n",
       "    <tr>\n",
       "      <th>3</th>\n",
       "      <td>Hot Country</td>\n",
       "      <td>37i9dQZF1DX1lVhptIYRda</td>\n",
       "    </tr>\n",
       "    <tr>\n",
       "      <th>4</th>\n",
       "      <td>Summer Jazz</td>\n",
       "      <td>37i9dQZF1DWTKxc7ZObqeH</td>\n",
       "    </tr>\n",
       "  </tbody>\n",
       "</table>\n",
       "</div>"
      ],
      "text/plain": [
       "   playlist_name             playlist_id\n",
       "0  Electro chill  37i9dQZF1DX9ND1QF5hZNF\n",
       "1      hard Rock  37i9dQZF1DX1X7WV84927n\n",
       "2    Trap Mojito  37i9dQZF1DX1OIMC8iDi74\n",
       "3    Hot Country  37i9dQZF1DX1lVhptIYRda\n",
       "4    Summer Jazz  37i9dQZF1DWTKxc7ZObqeH"
      ]
     },
     "execution_count": 5,
     "metadata": {},
     "output_type": "execute_result"
    }
   ],
   "source": [
    "# get playlist data\n",
    "playlists = pd.read_csv('./data/playlists.csv')\n",
    "playlists"
   ]
  },
  {
   "cell_type": "markdown",
   "metadata": {},
   "source": [
    "## Track meta\n"
   ]
  },
  {
   "cell_type": "code",
   "execution_count": 24,
   "metadata": {},
   "outputs": [],
   "source": [
    "# function to get hit Spotfy API and get tracks metadata\n",
    "def get_tracks_metadata(track_ids, access_token):\n",
    "    \"\"\"\n",
    "    Fetch metadata for a Spotify tracks.\n",
    "    \n",
    "    Parameters:\n",
    "    - track_ids: A list or array of Spotify track IDs.\n",
    "    - access_token: Your Spotify API Bearer token\n",
    "\n",
    "    Returns:\n",
    "    - A dataframe containing the tracks metadata\n",
    "    \"\"\"\n",
    "    endpoint = f\"https://api.spotify.com/v1/tracks\"\n",
    "    headers = {'Authorization': f'Bearer {access_token}'}\n",
    "    \n",
    "    # Initialize a list to hold all tracks data\n",
    "    all_tracks = []\n",
    "    \n",
    "    # Spotify API allows max 100 IDs per request, so we process in batches\n",
    "    batch_size = 50\n",
    "    if isinstance(track_ids, str):\n",
    "        track_ids = [track_ids]\n",
    "\n",
    "    # looping through the track_ids in batches \n",
    "    for i in range(0, len(track_ids), batch_size):\n",
    "        batch_ids = track_ids[i:i + batch_size]\n",
    "        ids = ','.join(batch_ids)\n",
    "        params = {'ids': ids}\n",
    "        \n",
    "        try:\n",
    "            # Make a GET request to the audio features endpoint\n",
    "            response = requests.get(endpoint, headers=headers, params=params)\n",
    "            response.raise_for_status()  # Raise an exception for HTTP errors\n",
    "            tracks_meta = response.json()\n",
    "            all_tracks.extend(tracks_meta['tracks'])\n",
    "\n",
    "        except requests.exceptions.RequestException as e:\n",
    "            print(f\"Request failed: {e}\")\n",
    "            continue\n",
    "\n",
    "    # Convert the list of tracks to a DataFrame\n",
    "    all_tracks = pd.DataFrame(all_tracks)\n",
    "    \n",
    "    # dropping unnecessary columns\n",
    "    all_tracks = all_tracks[\n",
    "        [\n",
    "            'id', 'name', 'album', 'artists', 'available_markets', 'disc_number', 'duration_ms', 'explicit', \n",
    "            'external_ids', 'external_urls', 'is_local', 'popularity', 'preview_url', 'track_number', 'type', 'uri'\n",
    "        ]].reset_index(drop=True)\n",
    "    \n",
    "    return all_tracks"
   ]
  },
  {
   "cell_type": "code",
   "execution_count": 25,
   "metadata": {},
   "outputs": [
    {
     "data": {
      "text/html": [
       "<div>\n",
       "<style scoped>\n",
       "    .dataframe tbody tr th:only-of-type {\n",
       "        vertical-align: middle;\n",
       "    }\n",
       "\n",
       "    .dataframe tbody tr th {\n",
       "        vertical-align: top;\n",
       "    }\n",
       "\n",
       "    .dataframe thead th {\n",
       "        text-align: right;\n",
       "    }\n",
       "</style>\n",
       "<table border=\"1\" class=\"dataframe\">\n",
       "  <thead>\n",
       "    <tr style=\"text-align: right;\">\n",
       "      <th></th>\n",
       "      <th>id</th>\n",
       "      <th>name</th>\n",
       "      <th>album</th>\n",
       "      <th>artists</th>\n",
       "      <th>available_markets</th>\n",
       "      <th>disc_number</th>\n",
       "      <th>duration_ms</th>\n",
       "      <th>explicit</th>\n",
       "      <th>external_ids</th>\n",
       "      <th>external_urls</th>\n",
       "      <th>is_local</th>\n",
       "      <th>popularity</th>\n",
       "      <th>preview_url</th>\n",
       "      <th>track_number</th>\n",
       "      <th>type</th>\n",
       "      <th>uri</th>\n",
       "    </tr>\n",
       "  </thead>\n",
       "  <tbody>\n",
       "    <tr>\n",
       "      <th>0</th>\n",
       "      <td>0mflMxspEfB0VbI1kyLiAv</td>\n",
       "      <td>Stick Season</td>\n",
       "      <td>{'album_type': 'album', 'artists': [{'external...</td>\n",
       "      <td>[{'external_urls': {'spotify': 'https://open.s...</td>\n",
       "      <td>[AR, AU, AT, BE, BO, BR, BG, CA, CL, CO, CR, C...</td>\n",
       "      <td>1</td>\n",
       "      <td>182346</td>\n",
       "      <td>False</td>\n",
       "      <td>{'isrc': 'USUM72212470'}</td>\n",
       "      <td>{'spotify': 'https://open.spotify.com/track/0m...</td>\n",
       "      <td>False</td>\n",
       "      <td>90</td>\n",
       "      <td>None</td>\n",
       "      <td>2</td>\n",
       "      <td>track</td>\n",
       "      <td>spotify:track:0mflMxspEfB0VbI1kyLiAv</td>\n",
       "    </tr>\n",
       "    <tr>\n",
       "      <th>1</th>\n",
       "      <td>4tekXLedu6wxNhHkKjFkPE</td>\n",
       "      <td>Let's Vibe</td>\n",
       "      <td>{'album_type': 'single', 'artists': [{'externa...</td>\n",
       "      <td>[{'external_urls': {'spotify': 'https://open.s...</td>\n",
       "      <td>[AR, AU, AT, BE, BO, BR, BG, CA, CL, CO, CR, C...</td>\n",
       "      <td>1</td>\n",
       "      <td>193663</td>\n",
       "      <td>False</td>\n",
       "      <td>{'isrc': 'FXQ892400160'}</td>\n",
       "      <td>{'spotify': 'https://open.spotify.com/track/4t...</td>\n",
       "      <td>False</td>\n",
       "      <td>54</td>\n",
       "      <td>https://p.scdn.co/mp3-preview/4bc677efe55ee736...</td>\n",
       "      <td>1</td>\n",
       "      <td>track</td>\n",
       "      <td>spotify:track:4tekXLedu6wxNhHkKjFkPE</td>\n",
       "    </tr>\n",
       "  </tbody>\n",
       "</table>\n",
       "</div>"
      ],
      "text/plain": [
       "                       id          name  \\\n",
       "0  0mflMxspEfB0VbI1kyLiAv  Stick Season   \n",
       "1  4tekXLedu6wxNhHkKjFkPE    Let's Vibe   \n",
       "\n",
       "                                               album  \\\n",
       "0  {'album_type': 'album', 'artists': [{'external...   \n",
       "1  {'album_type': 'single', 'artists': [{'externa...   \n",
       "\n",
       "                                             artists  \\\n",
       "0  [{'external_urls': {'spotify': 'https://open.s...   \n",
       "1  [{'external_urls': {'spotify': 'https://open.s...   \n",
       "\n",
       "                                   available_markets  disc_number  \\\n",
       "0  [AR, AU, AT, BE, BO, BR, BG, CA, CL, CO, CR, C...            1   \n",
       "1  [AR, AU, AT, BE, BO, BR, BG, CA, CL, CO, CR, C...            1   \n",
       "\n",
       "   duration_ms  explicit              external_ids  \\\n",
       "0       182346     False  {'isrc': 'USUM72212470'}   \n",
       "1       193663     False  {'isrc': 'FXQ892400160'}   \n",
       "\n",
       "                                       external_urls  is_local  popularity  \\\n",
       "0  {'spotify': 'https://open.spotify.com/track/0m...     False          90   \n",
       "1  {'spotify': 'https://open.spotify.com/track/4t...     False          54   \n",
       "\n",
       "                                         preview_url  track_number   type  \\\n",
       "0                                               None             2  track   \n",
       "1  https://p.scdn.co/mp3-preview/4bc677efe55ee736...             1  track   \n",
       "\n",
       "                                    uri  \n",
       "0  spotify:track:0mflMxspEfB0VbI1kyLiAv  \n",
       "1  spotify:track:4tekXLedu6wxNhHkKjFkPE  "
      ]
     },
     "execution_count": 25,
     "metadata": {},
     "output_type": "execute_result"
    }
   ],
   "source": [
    "# sample tracks\n",
    "tracks_id = ['0mflMxspEfB0VbI1kyLiAv', '4tekXLedu6wxNhHkKjFkPE']\n",
    "\n",
    "# getting the meta\n",
    "meta = get_tracks_metdata(tracks_id, access_token)\n",
    "meta"
   ]
  },
  {
   "cell_type": "code",
   "execution_count": null,
   "metadata": {},
   "outputs": [],
   "source": []
  },
  {
   "cell_type": "markdown",
   "metadata": {},
   "source": [
    "## Playlist meta\n"
   ]
  },
  {
   "cell_type": "code",
   "execution_count": 30,
   "metadata": {},
   "outputs": [],
   "source": [
    "# function to get hit Spotfy API and get playlist metadata\n",
    "def get_playlist_metadata(playlist_id, access_token=access_token):\n",
    "    \"\"\"\n",
    "    Fetch metadata for a Spotify playlist.\n",
    "    \n",
    "    Parameters:\n",
    "    - playlist_id: The Spotify playlist ID\n",
    "    - access_token: Your Spotify API Bearer token\n",
    "\n",
    "    Returns:\n",
    "    - A dictionary containing the playlist metadata\n",
    "    \"\"\"\n",
    "    url = f\"https://api.spotify.com/v1/playlists/{playlist_id}\"\n",
    "    headers = {'Authorization': f'Bearer {access_token}'}\n",
    "    \n",
    "    try:\n",
    "        response = requests.get(url, headers=headers)\n",
    "        response.raise_for_status()  # Raise an exception for HTTP errors\n",
    "        data = response.json()\n",
    "\n",
    "        # Extract relevant metadata\n",
    "        metadata = {\n",
    "            \"playlist_name\": data[\"name\"],\n",
    "            \"playlist_id\": data[\"id\"],\n",
    "            \"owner\": data[\"owner\"][\"display_name\"],\n",
    "            \"description\": data[\"description\"],\n",
    "            \"followers\": data[\"followers\"][\"total\"],\n",
    "            \"link\": data[\"external_urls\"][\"spotify\"],\n",
    "            \"image\": data[\"images\"][0][\"url\"],\n",
    "\n",
    "        }\n",
    "        \n",
    "        return metadata\n",
    "    \n",
    "    except requests.exceptions.RequestException as e:\n",
    "        print(f\"Request failed: {e}\")\n",
    "        return None"
   ]
  },
  {
   "cell_type": "code",
   "execution_count": 31,
   "metadata": {},
   "outputs": [
    {
     "data": {
      "text/plain": [
       "{'playlist_name': 'Electro Chill',\n",
       " 'playlist_id': '37i9dQZF1DX9ND1QF5hZNF',\n",
       " 'owner': 'Spotify',\n",
       " 'description': 'Evadez-vous tout en douceur...',\n",
       " 'followers': 607513,\n",
       " 'link': 'https://open.spotify.com/playlist/37i9dQZF1DX9ND1QF5hZNF',\n",
       " 'image': 'https://i.scdn.co/image/ab67706f00000002464218af3151b8d179a17753'}"
      ]
     },
     "execution_count": 31,
     "metadata": {},
     "output_type": "execute_result"
    }
   ],
   "source": [
    "# sample playlist\n",
    "playlist_id = '37i9dQZF1DX9ND1QF5hZNF'\n",
    "\n",
    "# getting the meta\n",
    "meta = get_playlist_metadata(playlist_id, access_token)\n",
    "meta"
   ]
  },
  {
   "cell_type": "code",
   "execution_count": 32,
   "metadata": {},
   "outputs": [
    {
     "data": {
      "text/html": [
       "<div>\n",
       "<style scoped>\n",
       "    .dataframe tbody tr th:only-of-type {\n",
       "        vertical-align: middle;\n",
       "    }\n",
       "\n",
       "    .dataframe tbody tr th {\n",
       "        vertical-align: top;\n",
       "    }\n",
       "\n",
       "    .dataframe thead th {\n",
       "        text-align: right;\n",
       "    }\n",
       "</style>\n",
       "<table border=\"1\" class=\"dataframe\">\n",
       "  <thead>\n",
       "    <tr style=\"text-align: right;\">\n",
       "      <th></th>\n",
       "      <th>playlist_name</th>\n",
       "      <th>playlist_id</th>\n",
       "      <th>owner</th>\n",
       "      <th>description</th>\n",
       "      <th>followers</th>\n",
       "      <th>link</th>\n",
       "      <th>image</th>\n",
       "    </tr>\n",
       "  </thead>\n",
       "  <tbody>\n",
       "    <tr>\n",
       "      <th>0</th>\n",
       "      <td>Electro Chill</td>\n",
       "      <td>37i9dQZF1DX9ND1QF5hZNF</td>\n",
       "      <td>Spotify</td>\n",
       "      <td>Evadez-vous tout en douceur...</td>\n",
       "      <td>607513</td>\n",
       "      <td>https://open.spotify.com/playlist/37i9dQZF1DX9...</td>\n",
       "      <td>https://i.scdn.co/image/ab67706f00000002464218...</td>\n",
       "    </tr>\n",
       "  </tbody>\n",
       "</table>\n",
       "</div>"
      ],
      "text/plain": [
       "   playlist_name             playlist_id    owner  \\\n",
       "0  Electro Chill  37i9dQZF1DX9ND1QF5hZNF  Spotify   \n",
       "\n",
       "                      description  followers  \\\n",
       "0  Evadez-vous tout en douceur...     607513   \n",
       "\n",
       "                                                link  \\\n",
       "0  https://open.spotify.com/playlist/37i9dQZF1DX9...   \n",
       "\n",
       "                                               image  \n",
       "0  https://i.scdn.co/image/ab67706f00000002464218...  "
      ]
     },
     "execution_count": 32,
     "metadata": {},
     "output_type": "execute_result"
    }
   ],
   "source": [
    "pd.DataFrame([meta])"
   ]
  },
  {
   "cell_type": "markdown",
   "metadata": {},
   "source": [
    "## Playlist track List\n"
   ]
  },
  {
   "cell_type": "code",
   "execution_count": null,
   "metadata": {},
   "outputs": [],
   "source": [
    "def get_playlist_tracks(playlist_id, access_token):\n",
    "    \"\"\"\n",
    "    Fetch all tracks from a Spotify playlist.\n",
    "    \n",
    "    Parameters:\n",
    "    - playlist_id: The Spotify playlist ID\n",
    "    - access_token: Your Spotify API Bearer token\n",
    "\n",
    "    Returns:\n",
    "    - A dataframe of all tracks in the playlist\n",
    "    \"\"\"\n",
    "    url = f\"https://api.spotify.com/v1/playlists/{playlist_id}/tracks\"\n",
    "    headers = {'Authorization': f'Bearer {access_token}'}\n",
    "    \n",
    "    track_list = []\n",
    "    params = {\n",
    "        'limit': 50,\n",
    "        'offset': 0\n",
    "        }\n",
    "    \n",
    "    while True:\n",
    "        try:\n",
    "            response = requests.get(url, headers=headers, params=params)\n",
    "            response.raise_for_status()  # Raise an exception for HTTP errors\n",
    "            data = response.json()\n",
    "\n",
    "            # Extract the 'track' value from each item\n",
    "            tracks_data = [track['track'] for track in data['items'] if track['track'] is not None]\n",
    "\n",
    "            # Extract track items from the response\n",
    "            track_list.extend(tracks_data)\n",
    "\n",
    "            # Check if there are more tracks to fetch\n",
    "            if data['next']:\n",
    "                params['offset'] += params['limit']\n",
    "                time.sleep(1)  # To avoid hitting rate limits\n",
    "            else:\n",
    "                break\n",
    "\n",
    "        except requests.exceptions.RequestException as e:\n",
    "            print(f\"Request failed: {e}\")\n",
    "            break\n",
    "        except KeyError as e:\n",
    "            print(f\"Unexpected response format: {e}\")\n",
    "            break\n",
    "    \n",
    "    # Create a DataFrame\n",
    "    df = pd.DataFrame(track_list)\n",
    "\n",
    "    # adding the playlist id to the dataframe\n",
    "    df['playlist_id'] = playlist_id\n",
    "    \n",
    "    return df"
   ]
  },
  {
   "cell_type": "code",
   "execution_count": null,
   "metadata": {},
   "outputs": [],
   "source": [
    "# sample playlist\n",
    "playlist_id = '37i9dQZF1DX9ND1QF5hZNF'\n",
    "\n",
    "# getting the tracks\n",
    "tracks = get_playlist_tracks(playlist_id, access_token)"
   ]
  },
  {
   "cell_type": "code",
   "execution_count": null,
   "metadata": {},
   "outputs": [],
   "source": [
    "tracks.head()"
   ]
  },
  {
   "cell_type": "markdown",
   "metadata": {},
   "source": [
    "## Audio features\n"
   ]
  },
  {
   "cell_type": "code",
   "execution_count": null,
   "metadata": {},
   "outputs": [],
   "source": [
    "def get_audio_features(track_ids, access_token):\n",
    "    \"\"\"\n",
    "    Fetch audio features for a list of Spotify track IDs and return them as a DataFrame.\n",
    "    \n",
    "    Parameters:\n",
    "    - track_ids: A list or array of Spotify track IDs.\n",
    "    - access_token: Your Spotify API Bearer token.\n",
    "    \n",
    "    Returns:\n",
    "    - A pandas DataFrame with track IDs as the index and audio features as columns.\n",
    "    \"\"\"\n",
    "    endpoint = \"https://api.spotify.com/v1/audio-features\"\n",
    "    headers = {'Authorization': f'Bearer {access_token}'}\n",
    "\n",
    "    # Initialize a list to hold all audio feature data\n",
    "    all_audio_features = []\n",
    "    \n",
    "    # Spotify API allows max 100 IDs per request, so we process in batches\n",
    "    batch_size = 100\n",
    "    if isinstance(track_ids, str):\n",
    "        track_ids = [track_ids]\n",
    "\n",
    "    # looping through the track_ids in batches \n",
    "    for i in range(0, len(track_ids), batch_size):\n",
    "        batch_ids = track_ids[i:i + batch_size]\n",
    "        ids = ','.join(batch_ids)\n",
    "        params = {'ids': ids}\n",
    "        \n",
    "        try:\n",
    "            # Make a GET request to the audio features endpoint\n",
    "            response = requests.get(endpoint, headers=headers, params=params)\n",
    "            response.raise_for_status()  # Raise an exception for HTTP errors\n",
    "            audio_features = response.json()['audio_features']\n",
    "            all_audio_features.extend(audio_features)\n",
    "\n",
    "        except requests.exceptions.RequestException as e:\n",
    "            print(f\"Request failed: {e}\")\n",
    "            continue\n",
    "\n",
    "    # Convert the list of audio features to a DataFrame\n",
    "    audio_features_df = pd.DataFrame(all_audio_features)\n",
    "    \n",
    "    # dropping unnecessary columns\n",
    "    audio_features_df.drop(['type', 'uri', 'track_href', 'analysis_url', 'duration_ms'], axis=1, inplace=True)\n",
    "    \n",
    "    return audio_features_df.reset_index()"
   ]
  },
  {
   "cell_type": "code",
   "execution_count": null,
   "metadata": {},
   "outputs": [],
   "source": [
    "# example of getting audio features\n",
    "af = get_audio_features(['4MSj19TwYBLgDFj3ddEeco', '1VKqsNsQvM0oCJKzUtWD2H'], access_token)\n",
    "af"
   ]
  },
  {
   "cell_type": "code",
   "execution_count": null,
   "metadata": {},
   "outputs": [],
   "source": [
    "# getting audio features for all the tracks in the playlist\n",
    "af_df = get_audio_features(tracks['id'].values[:4], access_token)\n",
    "af_df"
   ]
  },
  {
   "cell_type": "markdown",
   "metadata": {},
   "source": [
    "## Putting it together\n"
   ]
  },
  {
   "cell_type": "code",
   "execution_count": null,
   "metadata": {},
   "outputs": [],
   "source": [
    "# getting track list for all the playlists\n",
    "df = pd.DataFrame()\n",
    "\n",
    "# looping through all the playlists\n",
    "for playlist_id in tqdm(playlists['playlist_id']):\n",
    "\n",
    "    # getting the tracks\n",
    "    track_list = get_playlist_tracks(playlist_id, access_token)\n",
    "\n",
    "    # saving tracks\n",
    "    df = pd.concat([df, track_list])"
   ]
  },
  {
   "cell_type": "code",
   "execution_count": null,
   "metadata": {},
   "outputs": [],
   "source": [
    "print(df.shape)\n",
    "df.head()"
   ]
  },
  {
   "cell_type": "code",
   "execution_count": null,
   "metadata": {},
   "outputs": [],
   "source": [
    "# getting audio features for all the tracks in the playlist\n",
    "af_df = get_audio_features(df['id'].values, access_token)\n",
    "af_df"
   ]
  },
  {
   "cell_type": "code",
   "execution_count": null,
   "metadata": {},
   "outputs": [],
   "source": [
    "# merging the two dataframes\n",
    "final_df = pd.merge(df, af_df, on='id')\n",
    "final_df.tail()"
   ]
  },
  {
   "cell_type": "code",
   "execution_count": null,
   "metadata": {},
   "outputs": [],
   "source": [
    "# saving to csv\n",
    "final_df.to_csv('./data/playlist_tracks.csv', index=False)"
   ]
  },
  {
   "cell_type": "code",
   "execution_count": null,
   "metadata": {},
   "outputs": [],
   "source": []
  }
 ],
 "metadata": {
  "kernelspec": {
   "display_name": "venv",
   "language": "python",
   "name": "python3"
  },
  "language_info": {
   "codemirror_mode": {
    "name": "ipython",
    "version": 3
   },
   "file_extension": ".py",
   "mimetype": "text/x-python",
   "name": "python",
   "nbconvert_exporter": "python",
   "pygments_lexer": "ipython3",
   "version": "3.12.5"
  }
 },
 "nbformat": 4,
 "nbformat_minor": 2
}
